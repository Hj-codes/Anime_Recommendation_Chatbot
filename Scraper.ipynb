{
 "cells": [
  {
   "cell_type": "code",
   "execution_count": 14,
   "metadata": {},
   "outputs": [],
   "source": [
    "from selenium import webdriver\n",
    "from selenium.webdriver.common.by import By\n",
    "from bs4 import BeautifulSoup\n",
    "from time import sleep"
   ]
  },
  {
   "cell_type": "code",
   "execution_count": 15,
   "metadata": {},
   "outputs": [
    {
     "name": "stdout",
     "output_type": "stream",
     "text": [
      "Anime : Mushoku Tensei II: Isekai Ittara Honki Dasu\n",
      "Description : The second season ofMushoku Tensei: Isekai Ittara Honki Dasu.Rudeus heads north with new friends and powers in search of adventure and those he once knew.(Source: Crunchyroll)Note: Includes episode 0.\n",
      "Genre :{'Reincarnation': '95%', 'Isekai': '95%', 'Male Protagonist': '91%', 'Rehabilitation': '91%', 'Magic': '88%', 'Tragedy': '88%', 'Coming of Age': '86%', 'Heterosexual': '77%', 'School': '74%', 'Elf': '70%', 'Female Harem': '69%', 'Family Life': '68%', 'Gods': '67%', 'Hikikomori': '67%', 'Tomboy': '66%', 'Nudity': '66%', 'Time Skip': '66%', 'Survival': '66%', 'Swordplay': '65%', 'Tsundere': '65%', 'Super Power': '65%', 'Otaku Culture': '65%', 'Nekomimi': '64%', 'Love Triangle': '63%', 'Demons': '62%', 'Slavery': '61%', 'Found Family': '60%', 'Language Barrier': '58%', 'Delinquents': '58%', 'Religion': '58%', 'Crossdressing': '58%', 'Dungeon': '56%', 'Suicide': '55%', 'Maids': '48%', 'Archery': '46%', 'Dragons': '46%'}\n",
      "Average_scroe : 83%\n"
     ]
    }
   ],
   "source": [
    "# Create a browser instance using Selenium\n",
    "driver = webdriver.Chrome()  # Use the appropriate driver for your browser\n",
    "\n",
    "# Open the website (Replace \"https://example.com\" with the actual URL)\n",
    "website_url = \"https://anilist.co/anime/146065/Mushoku-Tensei-II-Isekai-Ittara-Honki-Dasu/\"\n",
    "driver.get(website_url)\n",
    "\n",
    "sleep(1)\n",
    "# Click the button (Replace \"button-id\" with the actual button ID)\n",
    "button = driver.find_element(By.CLASS_NAME, \"spoiler-toggle\")\n",
    "button.click()\n",
    "sleep(1)\n",
    "\n",
    "# Switch to the new window (popup)\n",
    "driver.switch_to.window(driver.window_handles[0])  # Assuming the popup is the second window\n",
    "\n",
    "# Extract the HTML content of the popup window\n",
    "popup_html = driver.page_source\n",
    "\n",
    "# Parse the HTML content with BeautifulSoup\n",
    "popup_soup = BeautifulSoup(popup_html, 'html.parser')\n",
    "\n",
    "# Scrape relevant information from the popup using BeautifulSoup\n",
    "# Find all <a> tags with the desired class\n",
    "genre_tags = popup_soup.find_all('a', class_='el-tooltip name')\n",
    "\n",
    "# Find all <a> tags with the class \"rank\"\n",
    "rank_tags = popup_soup.find_all('div', class_='rank')\n",
    "\n",
    "# Extract the title of the anime\n",
    "title = popup_soup.find(\"h1\").get_text(strip=True)\n",
    "\n",
    "# Extract the description/synopsis\n",
    "des = popup_soup.find(\"p\", class_=\"description content-wrap\").get_text(strip=True)\n",
    "\n",
    "#average_score = driver.find_elements(By.CLASS_NAME, 'el-tooltip data-set')\n",
    "average_score = popup_soup.find(\"div\", class_='el-tooltip data-set')\n",
    "\n",
    "# Find the div element with class \"value\" and extract its text\n",
    "value_element = average_score.find('div', class_='value')\n",
    "value_text = value_element.text\n",
    "\n",
    "\n",
    "# make list to save the info\n",
    "Genre = []\n",
    "rank = []\n",
    "\n",
    "# Extract and print the text content of each <a> tag\n",
    "for tag in genre_tags:\n",
    "    genre = tag.get_text(strip=True)\n",
    "    Genre.append(genre)\n",
    "\n",
    "# Extract and print the text content of rank tags\n",
    "for rank_tag in rank_tags:\n",
    "    rank_text = rank_tag.get_text(strip=True)\n",
    "    rank.append(rank_text)\n",
    "\n",
    "# Close the popup window\n",
    "driver.close()\n",
    "\n",
    "# Close the browser\n",
    "driver.quit()\n",
    "\n",
    "# Print the info\n",
    "dict1 = dict(zip(Genre,rank))\n",
    "print(f\"Anime : {title}\\nDescription : {des}\\nGenre :{dict1}\\nAverage_scroe : {value_text}\")\n"
   ]
  },
  {
   "cell_type": "code",
   "execution_count": 16,
   "metadata": {},
   "outputs": [
    {
     "data": {
      "text/plain": [
       "<div aria-describedby=\"el-tooltip-3781\" class=\"el-tooltip data-set\" data-v-d3a518a6=\"\" tabindex=\"0\"><div class=\"type\" data-v-d3a518a6=\"\">Average Score</div> <div class=\"value\" data-v-d3a518a6=\"\">83%</div></div>"
      ]
     },
     "execution_count": 16,
     "metadata": {},
     "output_type": "execute_result"
    }
   ],
   "source": [
    "average_score"
   ]
  },
  {
   "cell_type": "code",
   "execution_count": null,
   "metadata": {},
   "outputs": [],
   "source": []
  }
 ],
 "metadata": {
  "kernelspec": {
   "display_name": "Python 3",
   "language": "python",
   "name": "python3"
  },
  "language_info": {
   "codemirror_mode": {
    "name": "ipython",
    "version": 3
   },
   "file_extension": ".py",
   "mimetype": "text/x-python",
   "name": "python",
   "nbconvert_exporter": "python",
   "pygments_lexer": "ipython3",
   "version": "3.11.0"
  },
  "orig_nbformat": 4
 },
 "nbformat": 4,
 "nbformat_minor": 2
}
