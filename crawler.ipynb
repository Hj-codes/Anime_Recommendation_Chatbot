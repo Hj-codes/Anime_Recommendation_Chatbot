{
 "cells": [
  {
   "cell_type": "code",
   "execution_count": 33,
   "metadata": {},
   "outputs": [],
   "source": [
    "from selenium import webdriver\n",
    "from time import sleep\n",
    "from bs4 import BeautifulSoup\n",
    "from selenium.webdriver.common.by import By"
   ]
  },
  {
   "cell_type": "code",
   "execution_count": 36,
   "metadata": {},
   "outputs": [
    {
     "ename": "TypeError",
     "evalue": "unhashable type: 'list'",
     "output_type": "error",
     "traceback": [
      "\u001b[1;31m---------------------------------------------------------------------------\u001b[0m",
      "\u001b[1;31mTypeError\u001b[0m                                 Traceback (most recent call last)",
      "Cell \u001b[1;32mIn[36], line 14\u001b[0m\n\u001b[0;32m     12\u001b[0m links \u001b[39m=\u001b[39m driver\u001b[39m.\u001b[39mfind_elements(By\u001b[39m.\u001b[39mCLASS_NAME, \u001b[39m'\u001b[39m\u001b[39mcover-link\u001b[39m\u001b[39m'\u001b[39m)\n\u001b[0;32m     13\u001b[0m urls \u001b[39m=\u001b[39m [link\u001b[39m.\u001b[39mget_attribute(\u001b[39m'\u001b[39m\u001b[39mhref\u001b[39m\u001b[39m'\u001b[39m) \u001b[39mfor\u001b[39;00m link \u001b[39min\u001b[39;00m links]\n\u001b[1;32m---> 14\u001b[0m visited_sites\u001b[39m.\u001b[39;49madd(urls)\n\u001b[0;32m     16\u001b[0m \u001b[39mprint\u001b[39m(\u001b[39mf\u001b[39m\u001b[39m\"\u001b[39m\u001b[39mlinks : \u001b[39m\u001b[39m{\u001b[39;00murls\u001b[39m}\u001b[39;00m\u001b[39m \u001b[39m\u001b[39m\\n\u001b[39;00m\u001b[39m visited_sites : \u001b[39m\u001b[39m{\u001b[39;00mvisited_sites\u001b[39m}\u001b[39;00m\u001b[39m\"\u001b[39m)\n\u001b[0;32m     18\u001b[0m driver\u001b[39m.\u001b[39mclose()\n",
      "\u001b[1;31mTypeError\u001b[0m: unhashable type: 'list'"
     ]
    }
   ],
   "source": [
    "driver = webdriver.Chrome()\n",
    "website_url = \"https://anilist.co/anime/145064/Jujutsu-Kaisen-2nd-Season/\"\n",
    "driver.get(website_url)\n",
    "\n",
    "# Your crawling logic here\n",
    "driver.switch_to.window(driver.window_handles[0])\n",
    "\n",
    "# Making a set to keep visited sites\n",
    "visited_sites = set()\n",
    "\n",
    "# Extracting links from site\n",
    "links = driver.find_elements(By.CLASS_NAME, 'cover-link')\n",
    "urls = [link.get_attribute('href') for link in links]\n",
    "\n",
    "\n",
    "\n",
    "print(f\"links : {urls} \\n visited_sites : {visited_sites}\")\n",
    "\n",
    "driver.close()\n",
    "# Close the driver after crawling is done\n",
    "driver.quit()\n"
   ]
  },
  {
   "cell_type": "code",
   "execution_count": null,
   "metadata": {},
   "outputs": [],
   "source": []
  }
 ],
 "metadata": {
  "kernelspec": {
   "display_name": "Python 3",
   "language": "python",
   "name": "python3"
  },
  "language_info": {
   "codemirror_mode": {
    "name": "ipython",
    "version": 3
   },
   "file_extension": ".py",
   "mimetype": "text/x-python",
   "name": "python",
   "nbconvert_exporter": "python",
   "pygments_lexer": "ipython3",
   "version": "3.11.0"
  },
  "orig_nbformat": 4
 },
 "nbformat": 4,
 "nbformat_minor": 2
}
